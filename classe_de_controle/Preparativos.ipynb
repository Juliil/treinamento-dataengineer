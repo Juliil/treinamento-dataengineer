{
 "cells": [
  {
   "cell_type": "code",
   "execution_count": 0,
   "metadata": {
    "application/vnd.databricks.v1+cell": {
     "cellMetadata": {
      "byteLimit": 2048000,
      "rowLimit": 10000
     },
     "inputWidgets": {},
     "nuid": "a180b578-3bba-4fdb-9ecd-69cd5692332b",
     "showTitle": true,
     "tableResultSettingsMap": {},
     "title": "CRIAÇÃO DO SCHEMA E DA TABELA DE DICIONARIO DE METADADOS"
    }
   },
   "outputs": [],
   "source": [
    "spark.sql(\"CREATE SCHEMA if not EXISTS dicionarios\")\n",
    "spark.sql(\"\"\"\n",
    "CREATE TABLE IF NOT EXISTS dicionarios.dicionario_de_metadados (\n",
    "  origem STRING,\n",
    "  nome_tabela_origem STRING,\n",
    "  nome_tabela_transformada STRING,\n",
    "  dado_sensivel BOOLEAN\n",
    ")\n",
    "\"\"\")"
   ]
  },
  {
   "cell_type": "code",
   "execution_count": 0,
   "metadata": {
    "application/vnd.databricks.v1+cell": {
     "cellMetadata": {
      "byteLimit": 2048000,
      "rowLimit": 10000
     },
     "inputWidgets": {},
     "nuid": "0089734c-717e-43ec-aa65-fc854970f133",
     "showTitle": false,
     "tableResultSettingsMap": {},
     "title": ""
    }
   },
   "outputs": [],
   "source": [
    "%pip install faker"
   ]
  },
  {
   "cell_type": "code",
   "execution_count": 0,
   "metadata": {
    "application/vnd.databricks.v1+cell": {
     "cellMetadata": {
      "byteLimit": 2048000,
      "rowLimit": 10000
     },
     "inputWidgets": {},
     "nuid": "e75d90c3-2473-4e73-9ff3-4642302dc5b6",
     "showTitle": true,
     "tableResultSettingsMap": {},
     "title": "Verificar tabelas fakes simulando inserção de dados vindo da fonte"
    }
   },
   "outputs": [],
   "source": [
    "from pyspark.sql.types import StructType, StructField, StringType, IntegerType, FloatType, DateType\n",
    "import random\n",
    "from faker import Faker\n",
    "from datetime import datetime\n",
    "\n",
    "fake = Faker('pt_BR')\n",
    "\n",
    "# Listas de valores possíveis\n",
    "marcas_modelos = {\n",
    "    \"Toyota\": [\"Corolla\", \"Hilux\", \"Yaris\"],\n",
    "    \"Honda\": [\"Civic\", \"HR-V\", \"Fit\"],\n",
    "    \"Ford\": [\"Ka\", \"EcoSport\", \"Ranger\"],\n",
    "    \"Chevrolet\": [\"Onix\", \"Tracker\", \"S10\"],\n",
    "    \"Volkswagen\": [\"Gol\", \"Polo\", \"T-Cross\"]\n",
    "}\n",
    "\n",
    "formas_pagamento = [\"À vista\", \"Financiamento\", \"Consórcio\", \"Leasing\"]\n",
    "cores = [\"Preto\", \"Branco\", \"Prata\", \"Vermelho\", \"Azul\"]\n",
    "sexo_opcoes = [\"Masculino\", \"Feminino\"]\n",
    "\n",
    "# Gerando os dados fictícios\n",
    "dados = []\n",
    "for _ in range(1000):\n",
    "    sexo = random.choice(sexo_opcoes)\n",
    "    nome = fake.first_name_male() if sexo == \"Masculino\" else fake.first_name_female()\n",
    "    sobrenome = fake.last_name()\n",
    "    nome_completo = f\"{nome} {sobrenome}\"\n",
    "    \n",
    "    idade = random.randint(18, 70)\n",
    "    cpf = fake.ssn()\n",
    "    email = fake.email()\n",
    "    telefone = fake.phone_number()\n",
    "    cidade = fake.city()\n",
    "    estado = fake.state_abbr()\n",
    "    \n",
    "    marca = random.choice(list(marcas_modelos.keys()))\n",
    "    modelo = random.choice(marcas_modelos[marca])\n",
    "    ano_fabricacao = random.randint(2015, 2024)\n",
    "    cor = random.choice(cores)\n",
    "    valor_venda = round(random.uniform(38000, 250000), 2)\n",
    "    data_venda = fake.date_between(start_date=\"-2y\", end_date=\"today\")\n",
    "    forma_pagamento = random.choice(formas_pagamento)\n",
    "    \n",
    "    dados.append((nome_completo, idade, cpf, sexo, email, telefone, cidade, estado,\n",
    "                  marca, modelo, ano_fabricacao, cor, valor_venda, data_venda, forma_pagamento))\n",
    "\n",
    "# Criando o esquema do DataFrame\n",
    "esquema = StructType([\n",
    "    StructField(\"NOME\", StringType(), True),\n",
    "    StructField(\"IDADE\", IntegerType(), True),\n",
    "    StructField(\"CPF\", StringType(), True),\n",
    "    StructField(\"SEXO\", StringType(), True),\n",
    "    StructField(\"EMAIL\", StringType(), True),\n",
    "    StructField(\"TELEFONE\", StringType(), True),\n",
    "    StructField(\"CIDADE\", StringType(), True),\n",
    "    StructField(\"ESTADO\", StringType(), True),\n",
    "    StructField(\"MARCA_VEICULO\", StringType(), True),\n",
    "    StructField(\"MODELO_VEICULO\", StringType(), True),\n",
    "    StructField(\"ANO_FABRICACAO\", IntegerType(), True),\n",
    "    StructField(\"COR\", StringType(), True),\n",
    "    StructField(\"VALOR_VENDA\", FloatType(), True),\n",
    "    StructField(\"DATA_VENDA\", DateType(), True),\n",
    "    StructField(\"FORMA_PAGAMENTO\", StringType(), True)\n",
    "])\n",
    "\n",
    "# Criando o DataFrame no Spark\n",
    "df_vendas = spark.createDataFrame(dados, schema=esquema)\n",
    "\n",
    "# Exibir as primeiras linhas\n",
    "display(spark.table('dicionarios.dicionario_de_metadados'))\n",
    "display(df_vendas)"
   ]
  },
  {
   "cell_type": "code",
   "execution_count": 0,
   "metadata": {
    "application/vnd.databricks.v1+cell": {
     "cellMetadata": {
      "byteLimit": 2048000,
      "rowLimit": 10000
     },
     "inputWidgets": {},
     "nuid": "21fd2b0b-b838-45ef-b01c-fe476a687463",
     "showTitle": true,
     "tableResultSettingsMap": {},
     "title": "CRIANDO SCHEMAS BRONZE SILVER E GOLD PARA ARQUITETURA MEDALHAO"
    }
   },
   "outputs": [],
   "source": [
    "spark.sql(\"CREATE SCHEMA if not EXISTS bronze;\"); spark.sql(\"CREATE SCHEMA if not EXISTS silver;\"); spark.sql(\"CREATE SCHEMA if not EXISTS gold;\"); spark.sql(\"CREATE SCHEMA if not EXISTS landing;\")"
   ]
  },
  {
   "cell_type": "code",
   "execution_count": 0,
   "metadata": {
    "application/vnd.databricks.v1+cell": {
     "cellMetadata": {
      "byteLimit": 2048000,
      "rowLimit": 10000
     },
     "inputWidgets": {},
     "nuid": "6f03bc6e-8678-4de4-9d68-f1d2fad4040a",
     "showTitle": true,
     "tableResultSettingsMap": {},
     "title": "criando nossa primeira tabela simulando dados que são extraídos do sistema"
    }
   },
   "outputs": [],
   "source": [
    "# Criando as tabelas no esquema bronze\n",
    "df_vendas.write.mode(\"overwrite\").saveAsTable(\"landing.sales_oracle_system\")"
   ]
  }
 ],
 "metadata": {
  "application/vnd.databricks.v1+notebook": {
   "computePreferences": null,
   "dashboards": [],
   "environmentMetadata": {
    "base_environment": "",
    "environment_version": "2"
   },
   "language": "python",
   "notebookMetadata": {
    "pythonIndentUnit": 4
   },
   "notebookName": "Preparativos",
   "widgets": {}
  },
  "language_info": {
   "name": "python"
  }
 },
 "nbformat": 4,
 "nbformat_minor": 0
}
