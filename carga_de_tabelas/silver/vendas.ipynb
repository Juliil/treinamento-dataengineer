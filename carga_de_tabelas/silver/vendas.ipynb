{
 "cells": [
  {
   "cell_type": "code",
   "execution_count": 0,
   "metadata": {
    "application/vnd.databricks.v1+cell": {
     "cellMetadata": {
      "byteLimit": 2048000,
      "rowLimit": 10000
     },
     "inputWidgets": {},
     "nuid": "b67e74ae-82e1-45ab-85ba-e03a1c5ba36b",
     "showTitle": false,
     "tableResultSettingsMap": {},
     "title": ""
    }
   },
   "outputs": [],
   "source": [
    "%run ../../classe_de_controle/classe_de_controle"
   ]
  },
  {
   "cell_type": "code",
   "execution_count": 0,
   "metadata": {
    "application/vnd.databricks.v1+cell": {
     "cellMetadata": {
      "byteLimit": 2048000,
      "rowLimit": 10000
     },
     "inputWidgets": {},
     "nuid": "3c68e335-2dbb-4995-bc3a-dd86b3dcc3a5",
     "showTitle": false,
     "tableResultSettingsMap": {},
     "title": ""
    }
   },
   "outputs": [],
   "source": [
    "# Processamento na camada Silver\n",
    "silver_schema   = \"silver\"\n",
    "target_table    = \"sales_oracle_system\"\n",
    "partition       = \"\"  # Defina particionamento se necessário\n",
    "target_table_silver = \"vendas_sistema_oracle\"\n",
    "load_type       = Framework.LoadType.UPSERT  # ou APPEND_ALL\n",
    "\n",
    "etl = Framework()\n",
    "etl.execute_silver(silver_schema, target_table, target_table_silver, load_type, partition)"
   ]
  }
 ],
 "metadata": {
  "application/vnd.databricks.v1+notebook": {
   "computePreferences": null,
   "dashboards": [],
   "environmentMetadata": {
    "base_environment": "",
    "environment_version": "2"
   },
   "language": "python",
   "notebookMetadata": {
    "pythonIndentUnit": 4
   },
   "notebookName": "vendas",
   "widgets": {}
  },
  "language_info": {
   "name": "python"
  }
 },
 "nbformat": 4,
 "nbformat_minor": 0
}
