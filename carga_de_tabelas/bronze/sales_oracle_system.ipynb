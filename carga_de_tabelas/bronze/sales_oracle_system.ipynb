{
 "cells": [
  {
   "cell_type": "code",
   "execution_count": 0,
   "metadata": {
    "application/vnd.databricks.v1+cell": {
     "cellMetadata": {
      "byteLimit": 2048000,
      "rowLimit": 10000
     },
     "inputWidgets": {},
     "nuid": "6aba666e-e50b-4901-9376-990ff71737e3",
     "showTitle": false,
     "tableResultSettingsMap": {},
     "title": ""
    }
   },
   "outputs": [],
   "source": [
    "%run ../../classe_de_controle/classe_de_controle"
   ]
  },
  {
   "cell_type": "code",
   "execution_count": 0,
   "metadata": {
    "application/vnd.databricks.v1+cell": {
     "cellMetadata": {
      "byteLimit": 2048000,
      "rowLimit": 10000
     },
     "inputWidgets": {},
     "nuid": "f432f581-64eb-4a09-ba03-df8405be998b",
     "showTitle": false,
     "tableResultSettingsMap": {},
     "title": ""
    }
   },
   "outputs": [],
   "source": [
    "# Parâmetros do fluxo ETL\n",
    "schema_name     = \"bronze\"\n",
    "source_table    = \"sales_oracle_system\"\n",
    "landing_table   = \"landing.sales_oracle_system\"  # Tabela (no schema landing) que contém o path\n",
    "target_table    = \"sales_oracle_system\"\n",
    "bk_columns_keys = ['CPF']\n",
    "partition       = \"\"  # Defina particionamento se necessário\n",
    "\n",
    "etl = Framework()\n",
    "etl.execute_etl(schema_name, source_table, landing_table, target_table, bk_columns_keys, partition)"
   ]
  }
 ],
 "metadata": {
  "application/vnd.databricks.v1+notebook": {
   "computePreferences": null,
   "dashboards": [],
   "environmentMetadata": {
    "base_environment": "",
    "environment_version": "2"
   },
   "language": "python",
   "notebookMetadata": {
    "pythonIndentUnit": 4
   },
   "notebookName": "sales_oracle_system",
   "widgets": {}
  },
  "language_info": {
   "name": "python"
  }
 },
 "nbformat": 4,
 "nbformat_minor": 0
}
