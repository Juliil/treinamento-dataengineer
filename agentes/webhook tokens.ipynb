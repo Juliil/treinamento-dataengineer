{
 "cells": [
  {
   "cell_type": "code",
   "execution_count": 0,
   "metadata": {
    "application/vnd.databricks.v1+cell": {
     "cellMetadata": {
      "byteLimit": 2048000,
      "rowLimit": 10000
     },
     "inputWidgets": {},
     "nuid": "972c6d82-30f6-45a8-b647-14f17bc32d44",
     "showTitle": false,
     "tableResultSettingsMap": {},
     "title": ""
    }
   },
   "outputs": [],
   "source": [
    "import requests\n",
    "\n",
    "# URL do webhook\n",
    "url = \"https://hook.us2.make.com/l347kgyfy1r88w7ncy77n6dnzv99qd3k\"\n",
    "\n",
    "# Dados que serão enviados (payload)\n",
    "payload = {\"chave\": \"valor\"}\n",
    "\n",
    "# Cabeçalhos HTTP (se necessário, por exemplo, para indicar JSON)\n",
    "headers = {'Content-Type': 'application/json'}\n",
    "\n",
    "# Realiza a chamada POST\n",
    "response = requests.post(url, json=payload, headers=headers)\n",
    "\n",
    "# Exibe o status da resposta e o conteúdo retornado\n",
    "print(response.status_code)\n",
    "print(response.text)"
   ]
  },
  {
   "cell_type": "code",
   "execution_count": 0,
   "metadata": {
    "application/vnd.databricks.v1+cell": {
     "cellMetadata": {
      "byteLimit": 2048000,
      "implicitDf": true,
      "rowLimit": 10000
     },
     "inputWidgets": {},
     "nuid": "147efd3a-1d01-4ba9-b287-57ee5457cb04",
     "showTitle": false,
     "tableResultSettingsMap": {},
     "title": ""
    }
   },
   "outputs": [],
   "source": [
    "%sql select * from silver.vendas_sistema_oracle order by DATA_VENDA desc limit 1"
   ]
  }
 ],
 "metadata": {
  "application/vnd.databricks.v1+notebook": {
   "computePreferences": null,
   "dashboards": [],
   "environmentMetadata": {
    "base_environment": "",
    "environment_version": "2"
   },
   "language": "python",
   "notebookMetadata": {
    "mostRecentlyExecutedCommandWithImplicitDF": {
     "commandId": 7651676278403811,
     "dataframes": [
      "_sqldf"
     ]
    },
    "pythonIndentUnit": 4
   },
   "notebookName": "webhook tokens",
   "widgets": {}
  },
  "language_info": {
   "name": "python"
  }
 },
 "nbformat": 4,
 "nbformat_minor": 0
}
